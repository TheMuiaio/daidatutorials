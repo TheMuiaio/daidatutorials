{
  "nbformat": 4,
  "nbformat_minor": 0,
  "metadata": {
    "colab": {
      "provenance": []
    },
    "kernelspec": {
      "name": "python3",
      "display_name": "Python 3"
    },
    "language_info": {
      "name": "python"
    },
    "accelerator": "GPU",
    "gpuClass": "standard"
  },
  "cells": [
    {
      "cell_type": "markdown",
      "source": [
        "# Taller de ✨🔍redes convolucionales🔍✨\n",
        "\n",
        "### En este caso, vamos a entrenar una red convolucional usando Keras para analizar imágenes del corpus CIFAR-10\n",
        "\n",
        "Pero antes que nada, importamos todo lo necesario para poder trabajar"
      ],
      "metadata": {
        "id": "YoIvR5UGUF2l"
      }
    },
    {
      "cell_type": "code",
      "execution_count": null,
      "metadata": {
        "id": "DOTS2NqdT0u4"
      },
      "outputs": [],
      "source": [
        "import numpy as np\n",
        "import keras\n",
        "from keras.datasets import cifar10\n",
        "from keras.models import Sequential\n",
        "from keras.layers import Dense, Activation, Flatten\n",
        "from keras.layers import Conv2D, MaxPooling2D\n",
        "from keras.layers import Dropout\n",
        "from keras.layers import BatchNormalization as BN\n",
        "from keras.layers import GaussianNoise as GN\n",
        "from tensorflow.keras.optimizers import SGD\n",
        "from tensorflow.keras.optimizers import Adam\n",
        "from keras.utils import np_utils\n",
        "from keras.layers import Reshape\n",
        "from keras.preprocessing.image import ImageDataGenerator\n",
        "from keras.callbacks import ReduceLROnPlateau as LRS"
      ]
    },
    {
      "cell_type": "markdown",
      "source": [
        "Definimos aquí los hiperparámetros de la red:"
      ],
      "metadata": {
        "id": "r9QLB3uG2QzE"
      }
    },
    {
      "cell_type": "code",
      "source": [
        "batch_size = 256\n",
        "num_classes = 10\n",
        "epochs = 100"
      ],
      "metadata": {
        "id": "FmROxHCAVtNz"
      },
      "execution_count": null,
      "outputs": []
    },
    {
      "cell_type": "markdown",
      "source": [
        "Y aquí nos descargamos el dataset que vamos a utilizar. En este caso, como hemos comentado, vamos a utilizar CIFAR-10, un corpus de imágenes de 10 clases (avión, coche, pájaro, gato, ciervo, perro, rana, caballo, barco y camión) a color en una resolución de 32x32.\n",
        "\n",
        "Una vez obtenemos el dataset, aplicamos el mismo tratamiento que en el caso de MNIST:\n",
        "- Codificamos los números a floats de 32 bits para que sean más manejables por la red y los dividimos entre 255 para escalarlos a valores entre 0 y 1.\n",
        "- Convertimos las etiquetas (numéricas) a una representación interna de Keras para poder trabajar más cómodamente\n",
        "\n",
        "En el caso de CIFAR-10, las imágenes ya vienen en formato matriz, por lo que no es necesario reconstruirlas."
      ],
      "metadata": {
        "id": "RAlHtd_32Yj0"
      }
    },
    {
      "cell_type": "code",
      "source": [
        "(x_train, y_train), (x_test, y_test) = cifar10.load_data()\n",
        "\n",
        "x_train = x_train.astype('float32')\n",
        "x_test = x_test.astype('float32')\n",
        "\n",
        "def show_img(img):\n",
        "  import matplotlib.pyplot as plt\n",
        "\n",
        "  img = np.array(img)\n",
        "  plt.imshow(img, cmap= 'gray')\n",
        "\n",
        "x_train /= 255\n",
        "x_test /= 255\n",
        "\n",
        "show_img(x_test[1])\n",
        "\n",
        "y_train = np_utils.to_categorical(y_train, num_classes)\n",
        "y_test = np_utils.to_categorical(y_test, num_classes)"
      ],
      "metadata": {
        "colab": {
          "base_uri": "https://localhost:8080/",
          "height": 430
        },
        "id": "iW_PRTFDV6zG",
        "outputId": "7a070b43-ec46-4dc3-fd3a-7b1a656b69c8"
      },
      "execution_count": null,
      "outputs": [
        {
          "output_type": "display_data",
          "data": {
            "text/plain": [
              "<Figure size 640x480 with 1 Axes>"
            ],
            "image/png": "[encoded data removed]"
          },
          "metadata": {}
        }
      ]
    },
    {
      "cell_type": "markdown",
      "source": [
        "En esta celda preparamos un \"data generator\". Este objeto sirve para aplicar transformaciones y perturbaciones a las imágenes del dataset (rotaciones, traslaciones, zoom...). Os lo dejo preparado para que investiguéis con el data augmentation, que si no la red no aprenderá bién."
      ],
      "metadata": {
        "id": "qJrf_k-a4gRp"
      }
    },
    {
      "cell_type": "code",
      "source": [
        "data_generator = ImageDataGenerator(\n",
        ")"
      ],
      "metadata": {
        "id": "CuLI37HmxkQ7"
      },
      "execution_count": null,
      "outputs": []
    },
    {
      "cell_type": "markdown",
      "source": [
        "Definimos una función que implemente un \"bloque convolucional\". La función base que he dejado preparada implementa un bloque convolucional con dos convoluciones, batch norm, gaussian noise y dropout tras cada una de ellas, y un max pooling al final. Para experimentar, recomiendo simplemente cambiar el número de convoluciones dentro del bloque (1, 3, 4...). OJO: No necesariamente todos los bloques convolucionales de una red deben tener el mismo número de convoluciones."
      ],
      "metadata": {
        "id": "FHoPun8o42kM"
      }
    },
    {
      "cell_type": "code",
      "source": [
        "def CBGN(model, filters, ishape=0):\n",
        "  if ishape:\n",
        "    model.add(Conv2D(filters, (3,3), padding='same', input_shape=ishape))\n",
        "  else:\n",
        "    model.add(Conv2D(filters, (3,3), padding='same'))\n",
        "\n",
        "  model.add(BN())\n",
        "  model.add(GN(0.3))\n",
        "  model.add(Dropout(0.2))\n",
        "  model.add(Activation('relu'))\n",
        "\n",
        "  return model\n",
        "    "
      ],
      "metadata": {
        "id": "DxD0zU9LV_oX"
      },
      "execution_count": null,
      "outputs": []
    },
    {
      "cell_type": "markdown",
      "source": [
        "Definimos aquí la topología de nuestra red. En el caso base, se ha implementado una red convolucional con cuatro bloques convolucionales que van reduciendo el tamaño de la imágen, pero aumentando el número de canales que tiene (filtros), todo seguido de dos capas densas que sirven de clasificador.\n",
        "\n",
        "Por ejemplo, en el primer bloque pasaríamos de una imagen 32x32 a 3 canales (RGB) a una imagen 16x16 con 64 canales.\n",
        "\n",
        "Mi recomendación para la experimentación sería investigar arquitecturas \"famosas\" y simples de implementar (VGG-16, AlexNet...)"
      ],
      "metadata": {
        "id": "2nma3UM45odv"
      }
    },
    {
      "cell_type": "code",
      "source": [
        "model = Sequential()\n",
        "\n",
        "model = CBGN(model, 64, ishape=x_train.shape[1:])\n",
        "model = CBGN(model, 128)\n",
        "model = CBGN(model, 256)\n",
        "model = CBGN(model, 512)\n",
        "\n",
        "model.add(Flatten())\n",
        "model.add(Dense(512))\n",
        "model.add(Activation('relu'))\n",
        "\n",
        "model.add(Dense(num_classes))\n",
        "model.add(Activation('softmax'))\n",
        "\n",
        "model.summary()"
      ],
      "metadata": {
        "id": "UKewvpT41hL_"
      },
      "execution_count": null,
      "outputs": []
    },
    {
      "cell_type": "markdown",
      "source": [
        "Aquí definimos el optimizador que vamos a utilizar (en este caso, Adam) y compilamos el modelo con la función de pérdida, optimizador a usar y las métricas que se han de mostrar en tiempo de entrenamiento."
      ],
      "metadata": {
        "id": "acS4ooWE6s3v"
      }
    },
    {
      "cell_type": "code",
      "source": [
        "adam=Adam(learning_rate=0.01)\n",
        "model.compile(loss='categorical_crossentropy', optimizer=adam, metrics=['accuracy'])"
      ],
      "metadata": {
        "id": "Ww7PqM4d1882"
      },
      "execution_count": null,
      "outputs": []
    },
    {
      "cell_type": "markdown",
      "source": [
        "Definimos ciertas funciones que se utilizan como \"callbacks\". En este caso, hemos optado por:\n",
        "- Early stopping, para parar el entrenamiento de nuestro modelo cuando no mejoremos los resultados de forma significativa durante un número de épocas dado.\n",
        "- Model checkpoint, para guardarnos el checkpoint del estado del modelo que mejores resultados ha ofrecido.\n",
        "- Learning rate scheduler. En este caso, no hemos definido una función custom, sinó que hemos utilizado \"Reduce on plateau\" para reducir el factor de aprendizaje cuando nuestra función de pérdida encuentre un \"plano\"."
      ],
      "metadata": {
        "id": "oZscoYDj7F14"
      }
    },
    {
      "cell_type": "code",
      "source": [
        "early_stopping = keras.callbacks.EarlyStopping(patience=125, min_delta=0.001, monitor='val_accuracy', restore_best_weights=True)\n",
        "save_best = keras.callbacks.ModelCheckpoint('best.hdf5', save_best_only=True, monitor='val_accuracy')\n",
        "scheduler = LRS(monitor='val_loss', factor=0.1, patience=15, min_delta=0.005)\n",
        "\n",
        "callbacks = [early_stopping, save_best, scheduler]"
      ],
      "metadata": {
        "id": "uoGh18aY3APF"
      },
      "execution_count": null,
      "outputs": []
    },
    {
      "cell_type": "markdown",
      "source": [
        "Ahora ya por fin, entrenamos el modelo que hemos preparado y sacamos los resultados por pantalla."
      ],
      "metadata": {
        "id": "kdiaEjRa7zid"
      }
    },
    {
      "cell_type": "code",
      "source": [
        "history = model.fit(data_generator.flow(x_train, y_train, batch_size=batch_size, shuffle=True),\n",
        "                    steps_per_epoch=len(x_train) / batch_size,\n",
        "                    epochs=epochs,\n",
        "                    validation_data=(x_test, y_test),\n",
        "                    callbacks=callbacks,\n",
        "                    verbose=1)\n",
        "\n",
        "scores = model.evaluate(x_test, y_test, verbose=0)\n",
        "print(\"Test loss:\", scores[0])\n",
        "print(\"Test accuracy:\", scores[1])"
      ],
      "metadata": {
        "id": "Z-Huz5xh3E6Q"
      },
      "execution_count": null,
      "outputs": []
    },
    {
      "cell_type": "markdown",
      "source": [
        "Finalmente, graficamos las estadísticas del entrenamiento."
      ],
      "metadata": {
        "id": "DMI5tIQV76at"
      }
    },
    {
      "cell_type": "code",
      "source": [
        "import matplotlib.pyplot as plt\n",
        "\n",
        "plt.plot(history.history['accuracy'])\n",
        "plt.plot(history.history['val_accuracy'])\n",
        "plt.title('model accuracy')\n",
        "plt.ylabel('accuracy')\n",
        "plt.xlabel('epoch')\n",
        "plt.legend(['train', 'test'], loc='upper left')\n",
        "plt.show()"
      ],
      "metadata": {
        "colab": {
          "base_uri": "https://localhost:8080/",
          "height": 472
        },
        "id": "1pjiwNZVvzqm",
        "outputId": "ed8e4def-740a-4713-ce2e-8b419d71d27b"
      },
      "execution_count": null,
      "outputs": [
        {
          "output_type": "display_data",
          "data": {
            "text/plain": [
              "<Figure size 640x480 with 1 Axes>"
            ],
            "image/png": "[encoded data removed]"
          },
          "metadata": {}
        }
      ]
    },
    {
      "cell_type": "markdown",
      "source": [
        "Como podemos ver, el mayor problema con el que nos encontramos es que la tasa de aciertos en el conjunto de test está muy por debajo de la de el conjunto de train.\n",
        "\n",
        "Para mitigar esto un poco, e inluso para poder invertir esta tendencia, es muy conveniente jugar con el data augmentation, añadiendo transformaciones a las imágenes de entrenamiento, de forma que el modelo aprenda a generalizar más. Otra opción es experimentar con otras topologías (conocidas, o por conocer).\n",
        "\n",
        "Mi record en esta tarea ha sido de 0.921 de acierto. Ánimo :)"
      ],
      "metadata": {
        "id": "ukjNMKPa9YcW"
      }
    }
  ]
}